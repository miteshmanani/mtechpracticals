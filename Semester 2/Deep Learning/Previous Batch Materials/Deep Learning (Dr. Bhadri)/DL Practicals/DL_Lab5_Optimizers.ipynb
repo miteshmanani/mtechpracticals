{
  "nbformat": 4,
  "nbformat_minor": 0,
  "metadata": {
    "colab": {
      "provenance": []
    },
    "kernelspec": {
      "name": "python3",
      "display_name": "Python 3"
    },
    "language_info": {
      "name": "python"
    }
  },
  "cells": [
    {
      "cell_type": "code",
      "execution_count": null,
      "metadata": {
        "colab": {
          "base_uri": "https://localhost:8080/"
        },
        "id": "4z7e7fXOgvuo",
        "outputId": "e6a025bf-e0bb-48f1-b77f-442a854d8187"
      },
      "outputs": [
        {
          "output_type": "stream",
          "name": "stdout",
          "text": [
            "Downloading data from https://storage.googleapis.com/tensorflow/tf-keras-datasets/mnist.npz\n",
            "11490434/11490434 [==============================] - 0s 0us/step\n",
            "(60000, 28, 28) (60000,)\n"
          ]
        }
      ],
      "source": [
        "import keras\n",
        "from keras.datasets import mnist\n",
        "from keras.models import Sequential\n",
        "from keras.layers import Dense, Dropout, Flatten\n",
        "from keras.layers import Conv2D, MaxPooling2D\n",
        "from keras import backend as K\n",
        "(x_train, y_train), (x_test, y_test) = mnist.load_data()\n",
        "print(x_train.shape, y_train.shape)"
      ]
    },
    {
      "cell_type": "code",
      "source": [
        "x_train= x_train.reshape(x_train.shape[0],28,28,1)\n",
        "x_test=  x_test.reshape(x_test.shape[0],28,28,1)\n",
        "input_shape=(28,28,1)\n",
        "y_train=keras.utils.to_categorical(y_train)#,num_classes=)\n",
        "y_test=keras.utils.to_categorical(y_test)#, num_classes)\n",
        "x_train= x_train.astype('float32')\n",
        "x_test= x_test.astype('float32')\n",
        "x_train /= 255\n",
        "x_test /=255"
      ],
      "metadata": {
        "id": "CmLkUXTqgw7B"
      },
      "execution_count": null,
      "outputs": []
    },
    {
      "cell_type": "code",
      "source": [
        "batch_size=64\n",
        "num_classes=10\n",
        "epochs=10\n",
        "def build_model(optimizer):\n",
        "  model=Sequential()\n",
        "  model.add(Conv2D(32,kernel_size=(3,3),activation='relu',input_shape=input_shape))\n",
        "  model.add(MaxPooling2D(pool_size=(2,2)))\n",
        "  model.add(Dropout(0.25))\n",
        "  model.add(Flatten())\n",
        "  model.add(Dense(256, activation='relu'))\n",
        "  model.add(Dropout(0.5))\n",
        "  model.add(Dense(num_classes, activation='softmax'))\n",
        "  model.compile(loss=keras.losses.categorical_crossentropy, optimizer= optimizer, metrics=['accuracy'])\n",
        "  return model"
      ],
      "metadata": {
        "id": "miL549G1g02I"
      },
      "execution_count": null,
      "outputs": []
    },
    {
      "cell_type": "code",
      "source": [
        "optimizers = ['Adadelta', 'Adagrad', 'Adam', 'RMSprop', 'SGD']\n",
        "\n",
        "for i in optimizers:\n",
        "  model = build_model(i)\n",
        "  hist=model.fit(x_train, y_train, batch_size=batch_size, epochs=epochs, verbose=1, validation_data=(x_test,y_test))"
      ],
      "metadata": {
        "colab": {
          "base_uri": "https://localhost:8080/"
        },
        "id": "QMmRhBfehCi5",
        "outputId": "a024805f-6876-4a5d-abaa-945839240ff7"
      },
      "execution_count": null,
      "outputs": [
        {
          "output_type": "stream",
          "name": "stdout",
          "text": [
            "Epoch 1/10\n",
            "938/938 [==============================] - 46s 48ms/step - loss: 2.2665 - accuracy: 0.1598 - val_loss: 2.1868 - val_accuracy: 0.4002\n",
            "Epoch 2/10\n",
            "938/938 [==============================] - 43s 46ms/step - loss: 2.1394 - accuracy: 0.3322 - val_loss: 2.0437 - val_accuracy: 0.6038\n",
            "Epoch 3/10\n",
            "938/938 [==============================] - 44s 47ms/step - loss: 2.0040 - accuracy: 0.4744 - val_loss: 1.8896 - val_accuracy: 0.6990\n",
            "Epoch 4/10\n",
            "938/938 [==============================] - 44s 47ms/step - loss: 1.8583 - accuracy: 0.5674 - val_loss: 1.7252 - val_accuracy: 0.7463\n",
            "Epoch 5/10\n",
            "938/938 [==============================] - 44s 47ms/step - loss: 1.7075 - accuracy: 0.6253 - val_loss: 1.5573 - val_accuracy: 0.7770\n",
            "Epoch 6/10\n",
            "938/938 [==============================] - 43s 46ms/step - loss: 1.5528 - accuracy: 0.6640 - val_loss: 1.3929 - val_accuracy: 0.7953\n",
            "Epoch 7/10\n",
            "938/938 [==============================] - 44s 47ms/step - loss: 1.4089 - accuracy: 0.6934 - val_loss: 1.2418 - val_accuracy: 0.8083\n",
            "Epoch 8/10\n",
            "938/938 [==============================] - 43s 46ms/step - loss: 1.2769 - accuracy: 0.7144 - val_loss: 1.1087 - val_accuracy: 0.8177\n",
            "Epoch 9/10\n",
            "938/938 [==============================] - 43s 46ms/step - loss: 1.1660 - accuracy: 0.7270 - val_loss: 0.9959 - val_accuracy: 0.8263\n",
            "Epoch 10/10\n",
            "938/938 [==============================] - 42s 45ms/step - loss: 1.0720 - accuracy: 0.7411 - val_loss: 0.9024 - val_accuracy: 0.8320\n",
            "Epoch 1/10\n",
            "938/938 [==============================] - 38s 40ms/step - loss: 1.5729 - accuracy: 0.5528 - val_loss: 0.7649 - val_accuracy: 0.8415\n",
            "Epoch 2/10\n",
            "938/938 [==============================] - 39s 41ms/step - loss: 0.7429 - accuracy: 0.7857 - val_loss: 0.4753 - val_accuracy: 0.8828\n",
            "Epoch 3/10\n",
            "938/938 [==============================] - 38s 40ms/step - loss: 0.5759 - accuracy: 0.8279 - val_loss: 0.3960 - val_accuracy: 0.8944\n",
            "Epoch 4/10\n",
            "938/938 [==============================] - 37s 40ms/step - loss: 0.5047 - accuracy: 0.8501 - val_loss: 0.3567 - val_accuracy: 0.9036\n",
            "Epoch 5/10\n",
            "938/938 [==============================] - 37s 39ms/step - loss: 0.4618 - accuracy: 0.8624 - val_loss: 0.3283 - val_accuracy: 0.9099\n",
            "Epoch 6/10\n",
            "938/938 [==============================] - 38s 41ms/step - loss: 0.4356 - accuracy: 0.8696 - val_loss: 0.3087 - val_accuracy: 0.9152\n",
            "Epoch 7/10\n",
            "938/938 [==============================] - 40s 43ms/step - loss: 0.4127 - accuracy: 0.8774 - val_loss: 0.2932 - val_accuracy: 0.9172\n",
            "Epoch 8/10\n",
            "938/938 [==============================] - 38s 41ms/step - loss: 0.3945 - accuracy: 0.8816 - val_loss: 0.2797 - val_accuracy: 0.9216\n",
            "Epoch 9/10\n",
            "938/938 [==============================] - 38s 40ms/step - loss: 0.3756 - accuracy: 0.8881 - val_loss: 0.2687 - val_accuracy: 0.9242\n",
            "Epoch 10/10\n",
            "938/938 [==============================] - 37s 40ms/step - loss: 0.3656 - accuracy: 0.8906 - val_loss: 0.2598 - val_accuracy: 0.9253\n",
            "Epoch 1/10\n",
            "938/938 [==============================] - 41s 43ms/step - loss: 0.2640 - accuracy: 0.9200 - val_loss: 0.0783 - val_accuracy: 0.9747\n",
            "Epoch 2/10\n",
            "938/938 [==============================] - 41s 44ms/step - loss: 0.1041 - accuracy: 0.9682 - val_loss: 0.0545 - val_accuracy: 0.9812\n",
            "Epoch 3/10\n",
            "938/938 [==============================] - 41s 44ms/step - loss: 0.0764 - accuracy: 0.9772 - val_loss: 0.0438 - val_accuracy: 0.9858\n",
            "Epoch 4/10\n",
            "938/938 [==============================] - 41s 44ms/step - loss: 0.0645 - accuracy: 0.9798 - val_loss: 0.0439 - val_accuracy: 0.9853\n",
            "Epoch 5/10\n",
            "938/938 [==============================] - 39s 42ms/step - loss: 0.0555 - accuracy: 0.9830 - val_loss: 0.0353 - val_accuracy: 0.9892\n",
            "Epoch 6/10\n",
            "938/938 [==============================] - 40s 43ms/step - loss: 0.0481 - accuracy: 0.9848 - val_loss: 0.0345 - val_accuracy: 0.9877\n",
            "Epoch 7/10\n",
            "938/938 [==============================] - 42s 44ms/step - loss: 0.0393 - accuracy: 0.9876 - val_loss: 0.0312 - val_accuracy: 0.9903\n",
            "Epoch 8/10\n",
            "938/938 [==============================] - 42s 44ms/step - loss: 0.0367 - accuracy: 0.9877 - val_loss: 0.0310 - val_accuracy: 0.9899\n",
            "Epoch 9/10\n",
            "938/938 [==============================] - 40s 43ms/step - loss: 0.0332 - accuracy: 0.9890 - val_loss: 0.0296 - val_accuracy: 0.9901\n",
            "Epoch 10/10\n",
            "938/938 [==============================] - 41s 44ms/step - loss: 0.0298 - accuracy: 0.9901 - val_loss: 0.0341 - val_accuracy: 0.9894\n",
            "Epoch 1/10\n",
            "938/938 [==============================] - 41s 43ms/step - loss: 0.2457 - accuracy: 0.9243 - val_loss: 0.0739 - val_accuracy: 0.9760\n",
            "Epoch 2/10\n",
            "938/938 [==============================] - 39s 41ms/step - loss: 0.0942 - accuracy: 0.9716 - val_loss: 0.0518 - val_accuracy: 0.9829\n",
            "Epoch 3/10\n",
            "938/938 [==============================] - 40s 43ms/step - loss: 0.0719 - accuracy: 0.9787 - val_loss: 0.0421 - val_accuracy: 0.9865\n",
            "Epoch 4/10\n",
            "938/938 [==============================] - 40s 43ms/step - loss: 0.0603 - accuracy: 0.9826 - val_loss: 0.0381 - val_accuracy: 0.9863\n",
            "Epoch 5/10\n",
            "938/938 [==============================] - 40s 42ms/step - loss: 0.0535 - accuracy: 0.9839 - val_loss: 0.0356 - val_accuracy: 0.9871\n",
            "Epoch 6/10\n",
            "938/938 [==============================] - 39s 42ms/step - loss: 0.0502 - accuracy: 0.9850 - val_loss: 0.0375 - val_accuracy: 0.9871\n",
            "Epoch 7/10\n",
            "938/938 [==============================] - 38s 41ms/step - loss: 0.0449 - accuracy: 0.9861 - val_loss: 0.0373 - val_accuracy: 0.9872\n",
            "Epoch 8/10\n",
            "938/938 [==============================] - 39s 41ms/step - loss: 0.0415 - accuracy: 0.9870 - val_loss: 0.0396 - val_accuracy: 0.9885\n",
            "Epoch 9/10\n",
            "938/938 [==============================] - 38s 41ms/step - loss: 0.0385 - accuracy: 0.9882 - val_loss: 0.0353 - val_accuracy: 0.9882\n",
            "Epoch 10/10\n",
            "938/938 [==============================] - 39s 41ms/step - loss: 0.0395 - accuracy: 0.9877 - val_loss: 0.0391 - val_accuracy: 0.9888\n",
            "Epoch 1/10\n",
            "938/938 [==============================] - 37s 38ms/step - loss: 0.8696 - accuracy: 0.7356 - val_loss: 0.3065 - val_accuracy: 0.9154\n",
            "Epoch 2/10\n",
            "938/938 [==============================] - 36s 38ms/step - loss: 0.3849 - accuracy: 0.8833 - val_loss: 0.2272 - val_accuracy: 0.9348\n",
            "Epoch 3/10\n",
            "938/938 [==============================] - 36s 38ms/step - loss: 0.3089 - accuracy: 0.9068 - val_loss: 0.1859 - val_accuracy: 0.9467\n",
            "Epoch 4/10\n",
            "938/938 [==============================] - 37s 39ms/step - loss: 0.2739 - accuracy: 0.9179 - val_loss: 0.1655 - val_accuracy: 0.9505\n",
            "Epoch 5/10\n",
            "938/938 [==============================] - 36s 39ms/step - loss: 0.2438 - accuracy: 0.9264 - val_loss: 0.1465 - val_accuracy: 0.9565\n",
            "Epoch 6/10\n",
            "938/938 [==============================] - 36s 38ms/step - loss: 0.2262 - accuracy: 0.9330 - val_loss: 0.1343 - val_accuracy: 0.9600\n",
            "Epoch 7/10\n",
            "938/938 [==============================] - 35s 38ms/step - loss: 0.2095 - accuracy: 0.9363 - val_loss: 0.1253 - val_accuracy: 0.9624\n",
            "Epoch 8/10\n",
            "938/938 [==============================] - 37s 39ms/step - loss: 0.1986 - accuracy: 0.9403 - val_loss: 0.1186 - val_accuracy: 0.9636\n",
            "Epoch 9/10\n",
            "938/938 [==============================] - 36s 38ms/step - loss: 0.1857 - accuracy: 0.9449 - val_loss: 0.1094 - val_accuracy: 0.9668\n",
            "Epoch 10/10\n",
            "938/938 [==============================] - 36s 38ms/step - loss: 0.1778 - accuracy: 0.9455 - val_loss: 0.1038 - val_accuracy: 0.9689\n"
          ]
        }
      ]
    },
    {
      "cell_type": "code",
      "source": [],
      "metadata": {
        "colab": {
          "base_uri": "https://localhost:8080/"
        },
        "id": "ge8rmttuhKRp",
        "outputId": "11f8594f-e4d0-4acf-878c-1a34bf02c442"
      },
      "execution_count": null,
      "outputs": [
        {
          "output_type": "execute_result",
          "data": {
            "text/plain": [
              "<keras.src.callbacks.History at 0x7975897f4730>"
            ]
          },
          "metadata": {},
          "execution_count": 5
        }
      ]
    },
    {
      "cell_type": "code",
      "source": [],
      "metadata": {
        "id": "9FlbrN2bpGwo"
      },
      "execution_count": null,
      "outputs": []
    }
  ]
}