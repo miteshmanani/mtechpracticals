{
 "cells": [
  {
   "cell_type": "code",
   "execution_count": 1,
   "id": "7e75651a-bf7f-4c5e-a7b2-69e059b51307",
   "metadata": {},
   "outputs": [],
   "source": [
    "import pandas as pd\n",
    "import numpy as np\n",
    "import math\n",
    "\n",
    "# Load the dataset\n",
    "data = pd.read_csv(\n",
    "    'C:\\\\Users\\\\mites\\\\OneDrive\\\\Desktop\\\\Mitesh Manani - archive\\\\Iris.csv')\n",
    "\n",
    "# Convert relevant columns to numeric (ignoring the first column which is an ID)\n",
    "for column in data.columns[1:5]:\n",
    "    data[column] = pd.to_numeric(data[column])\n",
    "\n",
    "# Separate the dataset by class\n",
    "\n",
    "\n",
    "def separate_by_class(dataset):\n",
    "    separated = {}\n",
    "    for i in range(len(dataset)):\n",
    "        vector = dataset.iloc[i]\n",
    "        class_value = vector.iloc[-1]\n",
    "        if class_value not in separated:\n",
    "            separated[class_value] = []\n",
    "        separated[class_value].append(vector)\n",
    "    return separated\n",
    "\n",
    "# Summarize the dataset\n",
    "\n",
    "\n",
    "def summarize_dataset(dataset):\n",
    "    summaries = [(np.mean(column), np.std(column)) for column in zip(*dataset)]\n",
    "    del summaries[-1]\n",
    "    return summaries\n",
    "\n",
    "# Summarize the data by class\n",
    "\n",
    "\n",
    "def summarize_by_class(dataset):\n",
    "    separated = separate_by_class(dataset)\n",
    "    summaries = {}\n",
    "    for class_value, instances in separated.items():\n",
    "        summaries[class_value] = summarize_dataset(\n",
    "            [instance[1:5] for instance in instances])\n",
    "    return summaries\n",
    "\n",
    "# Gaussian Probability Density Function\n",
    "\n",
    "\n",
    "def calculate_probability(x, mean, stdev):\n",
    "    exponent = math.exp(-((x - mean) ** 2 / (2 * stdev ** 2)))\n",
    "    return (1 / (math.sqrt(2 * math.pi) * stdev)) * exponent\n",
    "\n",
    "# Calculate class probabilities\n",
    "\n",
    "\n",
    "def calculate_class_probabilities(summaries, input_vector):\n",
    "    total_rows = sum([len(summaries[class_value])\n",
    "                     for class_value in summaries])\n",
    "    probabilities = {}\n",
    "    for class_value, class_summaries in summaries.items():\n",
    "        probabilities[class_value] = len(\n",
    "            summaries[class_value]) / float(total_rows)\n",
    "        for i in range(len(class_summaries)):\n",
    "            mean, stdev = class_summaries[i]\n",
    "            x = input_vector[i]\n",
    "            probabilities[class_value] *= calculate_probability(x, mean, stdev)\n",
    "    return probabilities\n",
    "\n",
    "# Make a prediction\n",
    "\n",
    "\n",
    "def predict(summaries, input_vector):\n",
    "    probabilities = calculate_class_probabilities(summaries, input_vector)\n",
    "    best_label, best_prob = None, -1\n",
    "    for class_value, probability in probabilities.items():\n",
    "        if best_label is None or probability > best_prob:\n",
    "            best_prob = probability\n",
    "            best_label = class_value\n",
    "    return best_label\n"
   ]
  },
  {
   "cell_type": "code",
   "execution_count": 2,
   "id": "ca7a5feb-6208-4b8f-b040-3c24c2d03488",
   "metadata": {},
   "outputs": [],
   "source": [
    "# Summarize the dataset by class\n",
    "summaries = summarize_by_class(data)\n"
   ]
  },
  {
   "cell_type": "code",
   "execution_count": 3,
   "id": "a0d1023b-dcfc-41c6-8d40-f7fbfbe5873a",
   "metadata": {},
   "outputs": [
    {
     "name": "stdout",
     "output_type": "stream",
     "text": [
      "Separated by class:\n",
      "Iris-setosa: 50 instances\n",
      "Iris-versicolor: 50 instances\n",
      "Iris-virginica: 50 instances\n"
     ]
    }
   ],
   "source": [
    "# (a) Separate By Class\n",
    "separated = separate_by_class(data)\n",
    "print(\"Separated by class:\")\n",
    "for class_value in separated:\n",
    "    print(f\"{class_value}: {len(separated[class_value])} instances\")\n"
   ]
  },
  {
   "cell_type": "code",
   "execution_count": 4,
   "id": "95a3594d-8e6a-4159-b6ae-732654866ac8",
   "metadata": {},
   "outputs": [
    {
     "name": "stdout",
     "output_type": "stream",
     "text": [
      "\n",
      "Dataset summary:\n",
      "[(5.843333333333334, 0.8253012917851409), (3.0540000000000003, 0.4321465800705435), (3.758666666666666, 1.7585291834055212)]\n"
     ]
    }
   ],
   "source": [
    "# (b) Summarize Dataset\n",
    "summaries = summarize_dataset(\n",
    "    data.iloc[:, 1:5].values)  # Use only numeric columns\n",
    "print(\"\\nDataset summary:\")\n",
    "print(summaries)\n"
   ]
  },
  {
   "cell_type": "code",
   "execution_count": 5,
   "id": "a4e6aa5e-ade7-4228-bf66-da8c5414e618",
   "metadata": {},
   "outputs": [
    {
     "name": "stdout",
     "output_type": "stream",
     "text": [
      "\n",
      "Data summary by class:\n",
      "Iris-setosa: [(5.006, 0.3489469873777391), (3.418, 0.37719490982779713), (1.464, 0.17176728442867112)]\n",
      "Iris-versicolor: [(5.936, 0.5109833656783751), (2.7700000000000005, 0.31064449134018135), (4.26, 0.4651881339845203)]\n",
      "Iris-virginica: [(6.587999999999998, 0.6294886813914926), (2.974, 0.3192553836664309), (5.5520000000000005, 0.546347874526844)]\n"
     ]
    }
   ],
   "source": [
    "# (c) Summarize Data By Class\n",
    "summaries_by_class = summarize_by_class(data)\n",
    "print(\"\\nData summary by class:\")\n",
    "for class_value, class_summaries in summaries_by_class.items():\n",
    "    print(f\"{class_value}: {class_summaries}\")\n"
   ]
  },
  {
   "cell_type": "code",
   "execution_count": 6,
   "id": "a18c0ed3-72a1-4ffe-952f-bb25a66d4d97",
   "metadata": {},
   "outputs": [
    {
     "name": "stdout",
     "output_type": "stream",
     "text": [
      "\n",
      "Gaussian Probability Density Function example:\n",
      "Value: 5.1, Mean: 5.843333333333334, Standard Deviation: 0.8253012917851409, Probability: 0.3222121622883923\n"
     ]
    }
   ],
   "source": [
    "# (d) Gaussian Probability Density Function\n",
    "# Example calculation using the first attribute (sepal length) of the first instance in the dataset\n",
    "# Use the mean and std deviation from the dataset summary for demonstration\n",
    "mean, stdev = summaries[0]\n",
    "x = data.iloc[0, 1]  # The sepal length of the first instance\n",
    "probability = calculate_probability(x, mean, stdev)\n",
    "print(\"\\nGaussian Probability Density Function example:\")\n",
    "print(\n",
    "    f\"Value: {x}, Mean: {mean}, Standard Deviation: {stdev}, Probability: {probability}\")\n"
   ]
  },
  {
   "cell_type": "code",
   "execution_count": 7,
   "id": "91d95b24-b75a-4dcd-bbf8-026cb56781ad",
   "metadata": {},
   "outputs": [
    {
     "name": "stdout",
     "output_type": "stream",
     "text": [
      "\n",
      "Class probabilities for the input vector:\n",
      "{'Iris-setosa': 4.061895004400774e-57, 'Iris-versicolor': 0.2340717325372849, 'Iris-virginica': 0.003246979003612467}\n"
     ]
    }
   ],
   "source": [
    "# (e) Class Probabilities\n",
    "# Using a sample data point\n",
    "input_vector = [5.7, 2.9, 4.2, 1.3]\n",
    "probabilities = calculate_class_probabilities(summaries_by_class, input_vector)\n",
    "print(\"\\nClass probabilities for the input vector:\")\n",
    "print(probabilities)\n"
   ]
  },
  {
   "cell_type": "code",
   "execution_count": 8,
   "id": "2eedb9af-5c1d-454e-b0c2-31e187515cf9",
   "metadata": {},
   "outputs": [
    {
     "name": "stdout",
     "output_type": "stream",
     "text": [
      "\n",
      "Data=[5.7, 2.9, 4.2, 1.3], Predicted: 1\n"
     ]
    }
   ],
   "source": [
    "# Predict the class\n",
    "class_mapping = {\n",
    "    'Iris-setosa': 0,\n",
    "    'Iris-versicolor': 1,\n",
    "    'Iris-virginica': 2\n",
    "}\n",
    "predicted_class = predict(summaries_by_class, input_vector)\n",
    "predicted_class_index = class_mapping[predicted_class]\n",
    "print(f\"\\nData={input_vector}, Predicted: {predicted_class_index}\")\n"
   ]
  }
 ],
 "metadata": {
  "kernelspec": {
   "display_name": "Python 3 (ipykernel)",
   "language": "python",
   "name": "python3"
  },
  "language_info": {
   "codemirror_mode": {
    "name": "ipython",
    "version": 3
   },
   "file_extension": ".py",
   "mimetype": "text/x-python",
   "name": "python",
   "nbconvert_exporter": "python",
   "pygments_lexer": "ipython3",
   "version": "3.11.9"
  }
 },
 "nbformat": 4,
 "nbformat_minor": 5
}
