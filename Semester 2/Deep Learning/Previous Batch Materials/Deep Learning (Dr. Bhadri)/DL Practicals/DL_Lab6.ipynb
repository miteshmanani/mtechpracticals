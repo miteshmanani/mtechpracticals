{
  "nbformat": 4,
  "nbformat_minor": 0,
  "metadata": {
    "colab": {
      "provenance": []
    },
    "kernelspec": {
      "name": "python3",
      "display_name": "Python 3"
    },
    "language_info": {
      "name": "python"
    }
  },
  "cells": [
    {
      "cell_type": "markdown",
      "source": [
        "\n",
        "Forward Backward pass"
      ],
      "metadata": {
        "id": "A3Xb0mvMDvnh"
      }
    },
    {
      "cell_type": "markdown",
      "source": [
        "Step1: Import libraries"
      ],
      "metadata": {
        "id": "vAUQ7KPSfJ42"
      }
    },
    {
      "cell_type": "code",
      "execution_count": 1,
      "metadata": {
        "id": "VkrMut6-r_gO"
      },
      "outputs": [],
      "source": [
        "#Importing libraries\n",
        "import numpy as np\n",
        "import h5py\n",
        "import matplotlib.pyplot as plt\n",
        "%matplotlib inline\n",
        "plt.rcParams['figure.figsize'] = (5.0, 4.0)\n",
        "plt.rcParams['image.interpolation'] = 'nearest'\n",
        "plt.rcParams['image.cmap'] = 'gray'\n",
        "np.random.seed(1)"
      ]
    },
    {
      "cell_type": "markdown",
      "source": [
        "Step2: Define padding"
      ],
      "metadata": {
        "id": "DuWpAerjfMDi"
      }
    },
    {
      "cell_type": "code",
      "source": [
        "#Padding across all sides for convolution\n",
        "def zero_pad(X, pad):\n",
        "    X_pad = np.pad(X, ((0,0), (pad,pad), (pad,pad), (0,0)), 'constant', constant_values = (0,0))\n",
        "    return X_pad"
      ],
      "metadata": {
        "id": "6S3owVQtsAq8"
      },
      "execution_count": 2,
      "outputs": []
    },
    {
      "cell_type": "markdown",
      "source": [
        "Step 3: Generate a random image and pad it"
      ],
      "metadata": {
        "id": "tlXDqIj_fPLa"
      }
    },
    {
      "cell_type": "code",
      "source": [
        "#Random number\n",
        "np.random.seed(1)\n",
        "x = np.random.randn(4, 3, 3, 2) #N,H,W,C\n",
        "x_pad = zero_pad(x, 2)\n",
        "print (\"x.shape =\", x.shape)\n",
        "print (\"x_pad.shape =\", x_pad.shape)\n",
        "print (\"x[1,1] =\", x[1,1])\n",
        "print (\"x_pad[1,1] =\", x_pad[1,1])\n",
        "\n",
        "fig, axarr = plt.subplots(1, 2)\n",
        "axarr[0].set_title('x')\n",
        "axarr[0].imshow(x[0,:,:,0])\n",
        "axarr[1].set_title('x_pad')\n",
        "axarr[1].imshow(x_pad[0,:,:,0])"
      ],
      "metadata": {
        "colab": {
          "base_uri": "https://localhost:8080/",
          "height": 485
        },
        "id": "3zIKoGZ8sDYl",
        "outputId": "0b424cbf-485a-4a01-ad4e-71f251821162"
      },
      "execution_count": 3,
      "outputs": [
        {
          "output_type": "stream",
          "name": "stdout",
          "text": [
            "x.shape = (4, 3, 3, 2)\n",
            "x_pad.shape = (4, 7, 7, 2)\n",
            "x[1,1] = [[ 0.90085595 -0.68372786]\n",
            " [-0.12289023 -0.93576943]\n",
            " [-0.26788808  0.53035547]]\n",
            "x_pad[1,1] = [[0. 0.]\n",
            " [0. 0.]\n",
            " [0. 0.]\n",
            " [0. 0.]\n",
            " [0. 0.]\n",
            " [0. 0.]\n",
            " [0. 0.]]\n"
          ]
        },
        {
          "output_type": "execute_result",
          "data": {
            "text/plain": [
              "<matplotlib.image.AxesImage at 0x7e478236a5c0>"
            ]
          },
          "metadata": {},
          "execution_count": 3
        },
        {
          "output_type": "display_data",
          "data": {
            "text/plain": [
              "<Figure size 500x400 with 2 Axes>"
            ],
            "image/png": "[encoded data removed]"
          },
          "metadata": {}
        }
      ]
    },
    {
      "cell_type": "markdown",
      "source": [
        "Step4: Define convoltuion Y = WX+b. Followed by Pooling"
      ],
      "metadata": {
        "id": "Pdwo_YsifXjN"
      }
    },
    {
      "cell_type": "code",
      "source": [
        "#Convolution is defined on sliced image whose size is equal to the mask size\n",
        "def conv_single_step(a_slice_prev, W, b):\n",
        "    s = np.multiply(a_slice_prev,W)\n",
        "    Z = np.sum(s)\n",
        "    Z = Z + b.astype(float)\n",
        "    return Z"
      ],
      "metadata": {
        "id": "824vrYNSsHc7"
      },
      "execution_count": 4,
      "outputs": []
    },
    {
      "cell_type": "markdown",
      "source": [
        "$$n_H = ⌊\\frac{n_{hprev}-f +2 \\times pad}{stride}⌋+1 $$ \\\\\n",
        "$$n_W = ⌊\\frac{n_{wprev}-f +2 \\times pad}{stride}⌋+1 $$ \\\\\n",
        "$$n_C = number of filters$$"
      ],
      "metadata": {
        "id": "Zyyin4dHf60w"
      }
    },
    {
      "cell_type": "code",
      "source": [
        "#Forward pass\n",
        "def conv_forward(A_prev, W, b, hparameters):\n",
        "\n",
        "    (m, n_H_prev, n_W_prev, n_C_prev) = A_prev.shape\n",
        "    (f, f, n_C_prev, n_C) = W.shape\n",
        "\n",
        "    stride = hparameters['stride']\n",
        "    pad = hparameters['pad']\n",
        "\n",
        "    n_H = int((n_H_prev + 2*pad - f)/stride) + 1 #Calculate size of resultant image\n",
        "    n_W =int((n_W_prev + 2*pad - f)/stride) + 1\n",
        "\n",
        "    Z = np.zeros([m, n_H, n_W, n_C])\n",
        "    A_prev_pad = zero_pad(A_prev, pad)\n",
        "\n",
        "    for i in range(m):\n",
        "        a_prev_pad = A_prev_pad[i,:,:,:]\n",
        "        for h in range(n_H):\n",
        "            for w in range(n_W):\n",
        "                for c in range(n_C):\n",
        "\n",
        "                    vert_start = h*stride\n",
        "                    vert_end = h*stride + f\n",
        "                    horiz_start = w*stride\n",
        "                    horiz_end = w*stride + f\n",
        "\n",
        "                    a_slice_prev = a_prev_pad[vert_start:vert_end,horiz_start:horiz_end,:]\n",
        "\n",
        "                    Z[i, h, w, c] = conv_single_step(a_slice_prev, W[:, :, :, c], b[:,:,:,c])\n",
        "\n",
        "    cache = (A_prev, W, b, hparameters)\n",
        "\n",
        "    return Z, cache"
      ],
      "metadata": {
        "id": "fLx3xQRssNs2"
      },
      "execution_count": 5,
      "outputs": []
    },
    {
      "cell_type": "code",
      "source": [
        "np.random.seed(1)\n",
        "A_prev = np.random.randn(10,4,4,3)\n",
        "W = np.random.randn(2,2,3,8)\n",
        "b = np.random.randn(1,1,1,8)\n",
        "hparameters = {\"pad\" : 2,\n",
        "               \"stride\": 2}\n",
        "\n",
        "Z, cache_conv = conv_forward(A_prev, W, b, hparameters)\n",
        "print(\"Z's mean =\", np.mean(Z))\n",
        "print(\"Z[3,2,1] =\", Z[3,2,1])\n",
        "print(\"cache_conv[0][1][2][3] =\", cache_conv[0][1][2][3])\n"
      ],
      "metadata": {
        "colab": {
          "base_uri": "https://localhost:8080/"
        },
        "id": "wAvvYd4csQZD",
        "outputId": "659ca6d7-237b-4d6d-f727-bd5cde80c91c"
      },
      "execution_count": 6,
      "outputs": [
        {
          "output_type": "stream",
          "name": "stdout",
          "text": [
            "Z's mean = 0.048995203528855794\n",
            "Z[3,2,1] = [-0.61490741 -6.7439236  -2.55153897  1.75698377  3.56208902  0.53036437\n",
            "  5.18531798  8.75898442]\n",
            "cache_conv[0][1][2][3] = [-0.20075807  0.18656139  0.41005165]\n"
          ]
        },
        {
          "output_type": "stream",
          "name": "stderr",
          "text": [
            "<ipython-input-5-896292926059>:29: DeprecationWarning: Conversion of an array with ndim > 0 to a scalar is deprecated, and will error in future. Ensure you extract a single element from your array before performing this operation. (Deprecated NumPy 1.25.)\n",
            "  Z[i, h, w, c] = conv_single_step(a_slice_prev, W[:, :, :, c], b[:,:,:,c])\n"
          ]
        }
      ]
    },
    {
      "cell_type": "markdown",
      "source": [
        "Step5: Backward pass"
      ],
      "metadata": {
        "id": "OB5mPkXWgpmQ"
      }
    },
    {
      "cell_type": "markdown",
      "source": [
        "$$dA+= \\sum_{h=0}^{n_H}\\sum_{w=0}^{n_W}W_c \\times dZ_{hw}$$ \\\\\n",
        "$$dW_c += \\sum_{h=0}^{n_H}\\sum_{w=0}^{n_W} a_{slice} \\times dZ_{hw}$$ \\\\\n",
        "$$db = \\sum_h \\sum_w dZ_{hw}$$"
      ],
      "metadata": {
        "id": "1Bxp8nD4lBvy"
      }
    },
    {
      "cell_type": "code",
      "source": [
        "#\n",
        "def conv_backward(dZ, cache):\n",
        "\n",
        "    (A_prev, W, b, hparameters) = cache\n",
        "\n",
        "    (m, n_H_prev, n_W_prev, n_C_prev) = A_prev.shape\n",
        "\n",
        "    (f, f, n_C_prev, n_C) = W.shape\n",
        "    stride = hparameters[\"stride\"]\n",
        "    pad = hparameters[\"pad\"]\n",
        "\n",
        "    (m, n_H, n_W, n_C) = dZ.shape\n",
        "\n",
        "    dA_prev = np.zeros((m, n_H_prev, n_W_prev, n_C_prev))\n",
        "    dW = np.zeros((f, f, n_C_prev, n_C))\n",
        "    db = np.zeros((1, 1, 1, n_C))\n",
        "\n",
        "    A_prev_pad = zero_pad(A_prev, pad)\n",
        "    dA_prev_pad = zero_pad(dA_prev, pad)\n",
        "\n",
        "    for i in range(m):\n",
        "\n",
        "        a_prev_pad = A_prev_pad[i]\n",
        "        da_prev_pad = dA_prev_pad[i]\n",
        "\n",
        "        for h in range(n_H):\n",
        "            for w in range(n_W):\n",
        "                for c in range(n_C):\n",
        "\n",
        "                    vert_start = h\n",
        "                    vert_end = vert_start + f\n",
        "                    horiz_start = w\n",
        "                    horiz_end = horiz_start + f\n",
        "\n",
        "                    a_slice = a_prev_pad[vert_start:vert_end, horiz_start:horiz_end, :]\n",
        "\n",
        "                    da_prev_pad[vert_start:vert_end, horiz_start:horiz_end, :] += W[:,:,:,c] * dZ[i, h, w, c]\n",
        "                    dW[:,:,:,c] += a_slice * dZ[i, h, w, c]\n",
        "                    db[:,:,:,c] += dZ[i, h, w, c]\n",
        "\n",
        "\n",
        "        dA_prev[i, :, :, :] = da_prev_pad[pad:-pad, pad:-pad, :]\n",
        "\n",
        "    return dA_prev, dW, db"
      ],
      "metadata": {
        "id": "apAn9PVDsWsq"
      },
      "execution_count": 7,
      "outputs": []
    },
    {
      "cell_type": "code",
      "source": [
        "np.random.seed(1)\n",
        "dA, dW, db = conv_backward(Z, cache_conv)\n",
        "print(\"dA_mean =\", np.mean(dA))\n",
        "print(\"dW_mean =\", np.mean(dW))\n",
        "print(\"db_mean =\", np.mean(db))"
      ],
      "metadata": {
        "colab": {
          "base_uri": "https://localhost:8080/"
        },
        "id": "gaAwLZeGsbQ_",
        "outputId": "2c6130ff-8523-4a70-dc85-057ce84b603b"
      },
      "execution_count": 8,
      "outputs": [
        {
          "output_type": "stream",
          "name": "stdout",
          "text": [
            "dA_mean = 0.6347704472654743\n",
            "dW_mean = 1.5572657428497354\n",
            "db_mean = 7.839232564616838\n"
          ]
        }
      ]
    },
    {
      "cell_type": "code",
      "source": [],
      "metadata": {
        "id": "cUa-EUfnyNJl"
      },
      "execution_count": 18,
      "outputs": []
    }
  ]
}