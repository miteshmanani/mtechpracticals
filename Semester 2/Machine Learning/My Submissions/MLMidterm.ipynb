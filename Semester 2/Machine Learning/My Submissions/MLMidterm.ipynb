{
  "nbformat": 4,
  "nbformat_minor": 0,
  "metadata": {
    "colab": {
      "provenance": []
    },
    "kernelspec": {
      "name": "python3",
      "display_name": "Python 3"
    },
    "language_info": {
      "name": "python"
    }
  },
  "cells": [
    {
      "cell_type": "markdown",
      "source": [
        "## Question 1: To obtain Estimated weight vector of W_hat"
      ],
      "metadata": {
        "id": "ZIdmhG-z9GPI"
      }
    },
    {
      "cell_type": "code",
      "execution_count": 1,
      "metadata": {
        "colab": {
          "base_uri": "https://localhost:8080/"
        },
        "id": "sRu7gvx98R4O",
        "outputId": "e8575c5d-b79d-4d61-d482-ad7ba37f3808"
      },
      "outputs": [
        {
          "output_type": "stream",
          "name": "stdout",
          "text": [
            "Estimated weight vector W_hat: [1.00000000e+00 4.88498131e-15]\n"
          ]
        }
      ],
      "source": [
        "import numpy as np\n",
        "\n",
        "# Define U and d based on the example values\n",
        "U = np.array([[1, 2], [2, 3], [3, 4]])  # 3x2 matrix\n",
        "d = np.array([1, 2, 3])  # 3x1 vector\n",
        "\n",
        "# Calculate the conjugate transpose of U\n",
        "U_H = np.conjugate(U.T)\n",
        "\n",
        "# Calculate the estimated weight vector Ŵ using the least squares formula\n",
        "W_hat = np.linalg.inv(U_H @ U) @ U_H @ d\n",
        "\n",
        "print(\"Estimated weight vector W_hat:\", W_hat)\n"
      ]
    },
    {
      "cell_type": "markdown",
      "source": [
        "## Question 2: Compute the Gradient of a Quadratic Function\n",
        "\n",
        "###We will perform gradient descent using these definitions and a learning rate of 0.1, for 3 iterations.\n"
      ],
      "metadata": {
        "id": "SbgnTN4H-Z2F"
      }
    },
    {
      "cell_type": "code",
      "source": [
        "import numpy as np\n",
        "\n",
        "# Define the quadratic function\n",
        "def f(x):\n",
        "    return np.sum(x ** 2)\n",
        "\n",
        "# Define the gradient of the function\n",
        "def grad_f(x):\n",
        "    return 2 * x\n",
        "\n",
        "# Gradient Descent function\n",
        "def gradient_descent(x_start, learning_rate, iterations):\n",
        "    x = np.array(x_start, dtype=float)  # Convert starting point to numpy array\n",
        "    for i in range(iterations):\n",
        "        # Compute the function value\n",
        "        func_value = f(x)\n",
        "        print(f\"Iteration {i + 1}: f(x) = {func_value}, x = {x}\")\n",
        "\n",
        "        # Compute the gradient\n",
        "        gradient = grad_f(x)\n",
        "\n",
        "        # Update x using the gradient and learning rate\n",
        "        x = x - learning_rate * gradient\n",
        "\n",
        "# Initial values\n",
        "x_start = [1, 2, 3]  # starting points\n",
        "learning_rate = 0.1  # learning rate\n",
        "iterations = 3  # number of iterations\n",
        "\n",
        "# Run gradient descent\n",
        "gradient_descent(x_start, learning_rate, iterations)\n"
      ],
      "metadata": {
        "colab": {
          "base_uri": "https://localhost:8080/"
        },
        "id": "XvnrCGAy8pz1",
        "outputId": "aa9c8299-f2de-4fc9-d590-a14c17657712"
      },
      "execution_count": 2,
      "outputs": [
        {
          "output_type": "stream",
          "name": "stdout",
          "text": [
            "Iteration 1: f(x) = 14.0, x = [1. 2. 3.]\n",
            "Iteration 2: f(x) = 8.96, x = [0.8 1.6 2.4]\n",
            "Iteration 3: f(x) = 5.7344, x = [0.64 1.28 1.92]\n"
          ]
        }
      ]
    },
    {
      "cell_type": "markdown",
      "source": [
        "## Question 3: Fitting a Curve with Gaussian Basis Functions"
      ],
      "metadata": {
        "id": "CL2wgYip-2OK"
      }
    },
    {
      "cell_type": "code",
      "source": [
        "import numpy as np\n",
        "import matplotlib.pyplot as plt\n",
        "\n",
        "# Given input (x) and output (t)\n",
        "x = np.array([-1, -0.8, -0.6, -0.4, -0.2, 0, 0.2, 0.4, 0.6, 0.8, 1])\n",
        "t = np.array([-4.9, -3.5, -2.8, 0.8, 0.3, -1.6, -1.3, 0.5, 2.1, 2.9, 5.6])\n",
        "\n",
        "# Number of basis functions (M)\n",
        "M = 4\n",
        "# Centers of the Gaussian basis functions (evenly spaced between min and max of x)\n",
        "mu = np.linspace(np.min(x), np.max(x), M)\n",
        "# Variance (unity variance means sigma = 1)\n",
        "sigma = 1.0\n",
        "\n",
        "# Define Gaussian basis function\n",
        "def gaussian_basis_function(x, mu, sigma):\n",
        "    return np.exp(-0.5 * ((x - mu) ** 2) / sigma ** 2)\n",
        "\n",
        "# Construct the design matrix Phi\n",
        "def design_matrix(x, mu, sigma):\n",
        "    Phi = np.zeros((len(x), len(mu)))\n",
        "    for i in range(len(mu)):\n",
        "        Phi[:, i] = gaussian_basis_function(x, mu[i], sigma)\n",
        "    return Phi\n",
        "\n",
        "# Build the design matrix for the input data x\n",
        "Phi = design_matrix(x, mu, sigma)\n",
        "\n",
        "# Solve for weights using least squares: w = (Phi^T * Phi)^-1 * Phi^T * t\n",
        "w = np.linalg.inv(Phi.T @ Phi) @ (Phi.T @ t)\n",
        "\n",
        "# Predict values using the fitted model\n",
        "def predict(x, w, mu, sigma):\n",
        "    Phi_x = design_matrix(x, mu, sigma)\n",
        "    return Phi_x @ w\n",
        "\n",
        "# Plot the original data and the fitted curve\n",
        "x_plot = np.linspace(-1, 1, 100)\n",
        "t_pred = predict(x_plot, w, mu, sigma)\n",
        "\n",
        "plt.scatter(x, t, color='red', label='Data points')\n",
        "plt.plot(x_plot, t_pred, label='Fitted curve', color='blue')\n",
        "plt.title('Curve Fitting with Gaussian Basis Functions')\n",
        "plt.xlabel('x')\n",
        "plt.ylabel('t')\n",
        "plt.legend()\n",
        "plt.show()\n",
        "\n",
        "# Print weights\n",
        "print(\"Fitted weights:\", w)\n"
      ],
      "metadata": {
        "colab": {
          "base_uri": "https://localhost:8080/",
          "height": 489
        },
        "id": "dxNv_j8m86lY",
        "outputId": "a357a861-8365-4ba3-a469-eaf91ebd7885"
      },
      "execution_count": 3,
      "outputs": [
        {
          "output_type": "display_data",
          "data": {
            "text/plain": [
              "<Figure size 640x480 with 1 Axes>"
            ],
            "image/png": "[encoded data removed]"
          },
          "metadata": {}
        },
        {
          "output_type": "stream",
          "name": "stdout",
          "text": [
            "Fitted weights: [-47.78060486  94.19380244 -96.72255754  50.89632057]\n"
          ]
        }
      ]
    }
  ]
}