{
  "cells": [
    {
      "cell_type": "code",
      "execution_count": null,
      "metadata": {
        "id": "AfV4ejmy7uqY"
      },
      "outputs": [],
      "source": [
        "import torch\n",
        "import numpy as np\n",
        "from torchvision import datasets\n",
        "import torchvision.transforms as transforms"
      ]
    },
    {
      "cell_type": "code",
      "execution_count": null,
      "metadata": {
        "id": "d_gquulg8jty"
      },
      "outputs": [],
      "source": [
        "import torch.nn as nn\n",
        "import torch.nn.functional as F"
      ]
    },
    {
      "cell_type": "code",
      "execution_count": null,
      "metadata": {
        "id": "ANnn2lNp7z34"
      },
      "outputs": [],
      "source": [
        "transform = transforms.ToTensor()"
      ]
    },
    {
      "cell_type": "code",
      "execution_count": null,
      "metadata": {
        "colab": {
          "base_uri": "https://localhost:8080/"
        },
        "id": "qEuBeWhu71K5",
        "outputId": "88080dbb-c764-4e3e-9ab9-4a7455053632"
      },
      "outputs": [
        {
          "name": "stdout",
          "output_type": "stream",
          "text": [
            "Downloading http://yann.lecun.com/exdb/mnist/train-images-idx3-ubyte.gz\n",
            "Failed to download (trying next):\n",
            "HTTP Error 403: Forbidden\n",
            "\n",
            "Downloading https://ossci-datasets.s3.amazonaws.com/mnist/train-images-idx3-ubyte.gz\n",
            "Downloading https://ossci-datasets.s3.amazonaws.com/mnist/train-images-idx3-ubyte.gz to data/MNIST/raw/train-images-idx3-ubyte.gz\n"
          ]
        },
        {
          "name": "stderr",
          "output_type": "stream",
          "text": [
            "100%|██████████| 9.91M/9.91M [00:00<00:00, 10.5MB/s]\n"
          ]
        },
        {
          "name": "stdout",
          "output_type": "stream",
          "text": [
            "Extracting data/MNIST/raw/train-images-idx3-ubyte.gz to data/MNIST/raw\n",
            "\n",
            "Downloading http://yann.lecun.com/exdb/mnist/train-labels-idx1-ubyte.gz\n",
            "Failed to download (trying next):\n",
            "HTTP Error 403: Forbidden\n",
            "\n",
            "Downloading https://ossci-datasets.s3.amazonaws.com/mnist/train-labels-idx1-ubyte.gz\n",
            "Downloading https://ossci-datasets.s3.amazonaws.com/mnist/train-labels-idx1-ubyte.gz to data/MNIST/raw/train-labels-idx1-ubyte.gz\n"
          ]
        },
        {
          "name": "stderr",
          "output_type": "stream",
          "text": [
            "100%|██████████| 28.9k/28.9k [00:00<00:00, 349kB/s]\n"
          ]
        },
        {
          "name": "stdout",
          "output_type": "stream",
          "text": [
            "Extracting data/MNIST/raw/train-labels-idx1-ubyte.gz to data/MNIST/raw\n",
            "\n",
            "Downloading http://yann.lecun.com/exdb/mnist/t10k-images-idx3-ubyte.gz\n",
            "Failed to download (trying next):\n",
            "HTTP Error 403: Forbidden\n",
            "\n",
            "Downloading https://ossci-datasets.s3.amazonaws.com/mnist/t10k-images-idx3-ubyte.gz\n",
            "Downloading https://ossci-datasets.s3.amazonaws.com/mnist/t10k-images-idx3-ubyte.gz to data/MNIST/raw/t10k-images-idx3-ubyte.gz\n"
          ]
        },
        {
          "name": "stderr",
          "output_type": "stream",
          "text": [
            "100%|██████████| 1.65M/1.65M [00:00<00:00, 3.21MB/s]\n"
          ]
        },
        {
          "name": "stdout",
          "output_type": "stream",
          "text": [
            "Extracting data/MNIST/raw/t10k-images-idx3-ubyte.gz to data/MNIST/raw\n",
            "\n",
            "Downloading http://yann.lecun.com/exdb/mnist/t10k-labels-idx1-ubyte.gz\n",
            "Failed to download (trying next):\n",
            "HTTP Error 403: Forbidden\n",
            "\n",
            "Downloading https://ossci-datasets.s3.amazonaws.com/mnist/t10k-labels-idx1-ubyte.gz\n",
            "Downloading https://ossci-datasets.s3.amazonaws.com/mnist/t10k-labels-idx1-ubyte.gz to data/MNIST/raw/t10k-labels-idx1-ubyte.gz\n"
          ]
        },
        {
          "name": "stderr",
          "output_type": "stream",
          "text": [
            "100%|██████████| 4.54k/4.54k [00:00<00:00, 2.60MB/s]"
          ]
        },
        {
          "name": "stdout",
          "output_type": "stream",
          "text": [
            "Extracting data/MNIST/raw/t10k-labels-idx1-ubyte.gz to data/MNIST/raw\n",
            "\n"
          ]
        },
        {
          "name": "stderr",
          "output_type": "stream",
          "text": [
            "\n"
          ]
        }
      ],
      "source": [
        "train_data = datasets.MNIST(root='data', train=True,\n",
        "                                   download=True, transform=transform)\n",
        "test_data = datasets.MNIST(root='data', train=False,\n",
        "                                  download=True, transform=transform)"
      ]
    },
    {
      "cell_type": "code",
      "execution_count": null,
      "metadata": {
        "id": "Mrs3oIFJ720t"
      },
      "outputs": [],
      "source": [
        "batch_size = 20"
      ]
    },
    {
      "cell_type": "code",
      "execution_count": null,
      "metadata": {
        "colab": {
          "base_uri": "https://localhost:8080/"
        },
        "id": "f7cd_NJ776Zq",
        "outputId": "4d63b5eb-6c96-483b-fb46-9017520aedd9"
      },
      "outputs": [
        {
          "name": "stderr",
          "output_type": "stream",
          "text": [
            "/usr/local/lib/python3.10/dist-packages/torch/utils/data/dataloader.py:617: UserWarning: This DataLoader will create 4 worker processes in total. Our suggested max number of worker in current system is 2, which is smaller than what this DataLoader is going to create. Please be aware that excessive worker creation might get DataLoader running slow or even freeze, lower the worker number to avoid potential slowness/freeze if necessary.\n",
            "  warnings.warn(\n"
          ]
        }
      ],
      "source": [
        "train_loader = torch.utils.data.DataLoader(train_data, batch_size=batch_size, num_workers=4, shuffle=True)\n",
        "test_loader = torch.utils.data.DataLoader(test_data, batch_size=batch_size, num_workers=4)"
      ]
    },
    {
      "cell_type": "code",
      "execution_count": null,
      "metadata": {
        "id": "-LaSwz_h7_dm"
      },
      "outputs": [],
      "source": [
        "import matplotlib.pyplot as plt\n",
        "%matplotlib inline"
      ]
    },
    {
      "cell_type": "markdown",
      "metadata": {
        "id": "4r3DmLP0njdp"
      },
      "source": [
        "#N, H,W, C\n",
        "for plotting image dimension should be of form (H,W,C)"
      ]
    },
    {
      "cell_type": "markdown",
      "metadata": {
        "id": "q19fm_eRoQTF"
      },
      "source": [
        "(3,6,2)"
      ]
    },
    {
      "cell_type": "code",
      "execution_count": null,
      "metadata": {
        "colab": {
          "base_uri": "https://localhost:8080/",
          "height": 463
        },
        "id": "O7QkFvze8BmX",
        "outputId": "bb533986-75c7-4b85-89d3-16b8738c756f"
      },
      "outputs": [
        {
          "data": {
            "text/plain": [
              "<matplotlib.image.AxesImage at 0x7a99ae904730>"
            ]
          },
          "execution_count": 8,
          "metadata": {},
          "output_type": "execute_result"
        },
        {
          "data": {
            "image/png": "[encoded data removed]",
            "text/plain": [
              "<Figure size 500x500 with 1 Axes>"
            ]
          },
          "metadata": {},
          "output_type": "display_data"
        }
      ],
      "source": [
        "dataiter = iter(train_loader)\n",
        "images, labels = next(iter(train_loader))\n",
        "images = images.numpy()\n",
        "img = np.squeeze(images[0])\n",
        "fig = plt.figure(figsize = (5,5))\n",
        "ax = fig.add_subplot(111)\n",
        "ax.imshow(img, cmap='gray')"
      ]
    },
    {
      "cell_type": "code",
      "execution_count": null,
      "metadata": {
        "id": "jKHbi7ws8nKT"
      },
      "outputs": [],
      "source": [
        "class Autoencoder(nn.Module):\n",
        "    def __init__(self, encoding_dim):\n",
        "        super(Autoencoder, self).__init__()\n",
        "        self.fc1 = nn.Linear(28 * 28, encoding_dim) #Encoder layer\n",
        "        self.fc2 = nn.Linear(encoding_dim, 28*28) #Decoder layer\n",
        "    def forward(self, x):\n",
        "        x = F.relu(self.fc1(x))\n",
        "        x = F.sigmoid(self.fc2(x))\n",
        "        return x"
      ]
    },
    {
      "cell_type": "code",
      "execution_count": null,
      "metadata": {
        "colab": {
          "base_uri": "https://localhost:8080/"
        },
        "id": "bcp3ostW8r9x",
        "outputId": "9f414cf3-ac84-4d04-f41f-9f2b9528a66d"
      },
      "outputs": [
        {
          "name": "stdout",
          "output_type": "stream",
          "text": [
            "Autoencoder(\n",
            "  (fc1): Linear(in_features=784, out_features=32, bias=True)\n",
            "  (fc2): Linear(in_features=32, out_features=784, bias=True)\n",
            ")\n"
          ]
        }
      ],
      "source": [
        "encoding_dim = 32\n",
        "model = Autoencoder(encoding_dim)\n",
        "print(model)"
      ]
    },
    {
      "cell_type": "code",
      "execution_count": null,
      "metadata": {
        "id": "XfwEW9fN8ti5"
      },
      "outputs": [],
      "source": [
        "criterion = nn.MSELoss()"
      ]
    },
    {
      "cell_type": "code",
      "execution_count": null,
      "metadata": {
        "id": "N0Xyshgp8w5N"
      },
      "outputs": [],
      "source": [
        "optimizer = torch.optim.SGD(model.parameters(), lr=0.001)"
      ]
    },
    {
      "cell_type": "code",
      "execution_count": null,
      "metadata": {
        "colab": {
          "background_save": true,
          "base_uri": "https://localhost:8080/"
        },
        "id": "8K3sJsIb8yxC",
        "outputId": "adc830c2-810c-4898-c965-ac4687878d8b"
      },
      "outputs": [
        {
          "name": "stdout",
          "output_type": "stream",
          "text": [
            "Epoch: 1 tTraining Loss: 4.665638\n",
            "Epoch: 2 tTraining Loss: 4.649163\n",
            "Epoch: 3 tTraining Loss: 4.636105\n",
            "Epoch: 4 tTraining Loss: 4.624675\n",
            "Epoch: 5 tTraining Loss: 4.613915\n",
            "Epoch: 6 tTraining Loss: 4.603303\n",
            "Epoch: 7 tTraining Loss: 4.592441\n",
            "Epoch: 8 tTraining Loss: 4.581012\n",
            "Epoch: 9 tTraining Loss: 4.568751\n",
            "Epoch: 10 tTraining Loss: 4.555421\n",
            "Epoch: 11 tTraining Loss: 4.540797\n",
            "Epoch: 12 tTraining Loss: 4.524657\n",
            "Epoch: 13 tTraining Loss: 4.506770\n",
            "Epoch: 14 tTraining Loss: 4.486894\n",
            "Epoch: 15 tTraining Loss: 4.464773\n",
            "Epoch: 16 tTraining Loss: 4.440130\n",
            "Epoch: 17 tTraining Loss: 4.412673\n",
            "Epoch: 18 tTraining Loss: 4.382098\n",
            "Epoch: 19 tTraining Loss: 4.348087\n",
            "Epoch: 20 tTraining Loss: 4.310318\n",
            "Epoch: 21 tTraining Loss: 4.268468\n",
            "Epoch: 22 tTraining Loss: 4.222221\n",
            "Epoch: 23 tTraining Loss: 4.171277\n",
            "Epoch: 24 tTraining Loss: 4.115364\n",
            "Epoch: 25 tTraining Loss: 4.054246\n",
            "Epoch: 26 tTraining Loss: 3.987736\n",
            "Epoch: 27 tTraining Loss: 3.915712\n",
            "Epoch: 28 tTraining Loss: 3.838129\n",
            "Epoch: 29 tTraining Loss: 3.755036\n",
            "Epoch: 30 tTraining Loss: 3.666589\n",
            "Epoch: 31 tTraining Loss: 3.573065\n",
            "Epoch: 32 tTraining Loss: 3.474872\n",
            "Epoch: 33 tTraining Loss: 3.372560\n",
            "Epoch: 34 tTraining Loss: 3.266829\n",
            "Epoch: 35 tTraining Loss: 3.158518\n",
            "Epoch: 36 tTraining Loss: 3.048604\n",
            "Epoch: 37 tTraining Loss: 2.938181\n",
            "Epoch: 38 tTraining Loss: 2.828426\n",
            "Epoch: 39 tTraining Loss: 2.720548\n",
            "Epoch: 40 tTraining Loss: 2.615727\n",
            "Epoch: 41 tTraining Loss: 2.515060\n",
            "Epoch: 42 tTraining Loss: 2.419478\n",
            "Epoch: 43 tTraining Loss: 2.329698\n",
            "Epoch: 44 tTraining Loss: 2.246195\n"
          ]
        }
      ],
      "source": [
        "n_epochs = 100\n",
        "for epoch in range(1, n_epochs+1):\n",
        "    train_loss = 0.0\n",
        "    for data in train_loader:\n",
        "        images, _ = data\n",
        "        images = images.view(images.size(0), -1)\n",
        "        optimizer.zero_grad()\n",
        "        outputs = model(images)\n",
        "        loss = criterion(outputs, images)\n",
        "        loss.backward()\n",
        "        optimizer.step()\n",
        "        train_loss += loss.item()*images.size(0)\n",
        "    train_loss = train_loss/len(train_loader)\n",
        "    print('Epoch: {} tTraining Loss: {:.6f}'.format(\n",
        "        epoch,\n",
        "        train_loss ))"
      ]
    },
    {
      "cell_type": "code",
      "execution_count": null,
      "metadata": {
        "colab": {
          "background_save": true
        },
        "id": "wZpZJPi386KJ"
      },
      "outputs": [],
      "source": [
        "images, labels = next(iter(test_loader))\n",
        "images_flatten = images.view(images.size(0), -1)\n",
        "output = model(images_flatten)\n",
        "images = images.numpy()\n",
        "output = output.view(batch_size, 1, 28, 28)\n",
        "output = output.detach().numpy()\n",
        "fig, axes = plt.subplots(nrows=2, ncols=10, sharex=True, sharey=True, figsize=(25,4))\n",
        "for images, row in zip([images, output], axes):\n",
        "    for img, ax in zip(images, row):\n",
        "        ax.imshow(np.squeeze(img), cmap='gray')\n",
        "        ax.get_xaxis().set_visible(False)\n",
        "        ax.get_yaxis().set_visible(False)"
      ]
    },
    {
      "cell_type": "code",
      "execution_count": null,
      "metadata": {
        "id": "cXzB3OKE8_sE"
      },
      "outputs": [],
      "source": []
    }
  ],
  "metadata": {
    "colab": {
      "provenance": []
    },
    "kernelspec": {
      "display_name": "Python 3",
      "name": "python3"
    },
    "language_info": {
      "name": "python"
    }
  },
  "nbformat": 4,
  "nbformat_minor": 0
}