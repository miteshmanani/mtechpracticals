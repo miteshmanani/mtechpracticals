{
 "cells": [
  {
   "cell_type": "code",
   "execution_count": 1,
   "id": "cbc2715d-760e-423f-83eb-b79c98389c77",
   "metadata": {},
   "outputs": [
    {
     "name": "stdout",
     "output_type": "stream",
     "text": [
      "[[ 2.  3.]\n",
      " [ 2.  1.]\n",
      " [ 0. -2.]\n",
      " [ 2.  4.]\n",
      " [ 4.  0.]\n",
      " [-2.  0.]\n",
      " [ 0.  3.]\n",
      " [ 1.  0.]\n",
      " [ 0. -1.]\n",
      " [ 5. -1.]\n",
      " [-2.  1.]]\n"
     ]
    }
   ],
   "source": [
    "import numpy as np\n",
    "\n",
    "# Conditional Sampling function\n",
    "\n",
    "\n",
    "def conditional_sampling(current_x, sampling_index, condition_index, mean, cov):\n",
    "    # Extract a, b, c from the covariance matrix\n",
    "    a = cov[sampling_index, sampling_index]\n",
    "    b = cov[sampling_index, condition_index]\n",
    "    c = cov[condition_index, condition_index]\n",
    "\n",
    "    # Compute conditional mean and standard deviation (sigma)\n",
    "    mu = mean[sampling_index] + \\\n",
    "        (b * (current_x[condition_index] - mean[condition_index]) / c)\n",
    "    sigma = np.sqrt(a - (b ** 2) / c)\n",
    "\n",
    "    # Sample new x for the sampling index\n",
    "    new_x = np.copy(current_x)\n",
    "    new_x[sampling_index] = np.random.randn() * sigma + mu\n",
    "\n",
    "    return new_x\n",
    "\n",
    "# Main Gibbs sampling function\n",
    "\n",
    "\n",
    "def gibbs_sampling(initial_points, cov, num_samples):\n",
    "    # Initialize the sampler to store the samples\n",
    "    sampler = np.empty((num_samples + 1, 2))\n",
    "\n",
    "    # Set the initial points (x0, x1)\n",
    "    sampler[0] = initial_points\n",
    "    x0, x1 = initial_points\n",
    "\n",
    "    # Run the sampling loop\n",
    "    for i in range(num_samples):\n",
    "        # Sample x0 given x1\n",
    "        current_x = np.array([x0, x1])\n",
    "        x0 = conditional_sampling(\n",
    "            current_x, sampling_index=0, condition_index=1, mean=[0, 0], cov=cov)[0]\n",
    "\n",
    "        # Sample x1 given x0\n",
    "        current_x = np.array([x0, x1])\n",
    "        x1 = conditional_sampling(\n",
    "            current_x, sampling_index=1, condition_index=0, mean=[0, 0], cov=cov)[1]\n",
    "\n",
    "        # Store the new sample\n",
    "        sampler[i + 1] = [x0, x1]\n",
    "\n",
    "    return sampler\n",
    "\n",
    "\n",
    "# Initial point, covariance matrix, and number of samples\n",
    "initial_points = [2, 3]\n",
    "cov = np.array([[10, 3], [3, 5]])\n",
    "num_samples = 10\n",
    "\n",
    "# Perform Gibbs sampling\n",
    "samples = gibbs_sampling(initial_points, cov, num_samples)\n",
    "\n",
    "# Output the samples\n",
    "print(samples)\n"
   ]
  },
  {
   "cell_type": "code",
   "execution_count": null,
   "id": "3a3d280a-791c-4c9b-a279-e79efff79fde",
   "metadata": {},
   "outputs": [],
   "source": []
  }
 ],
 "metadata": {
  "kernelspec": {
   "display_name": "Python 3 (ipykernel)",
   "language": "python",
   "name": "python3"
  },
  "language_info": {
   "codemirror_mode": {
    "name": "ipython",
    "version": 3
   },
   "file_extension": ".py",
   "mimetype": "text/x-python",
   "name": "python",
   "nbconvert_exporter": "python",
   "pygments_lexer": "ipython3",
   "version": "3.11.9"
  }
 },
 "nbformat": 4,
 "nbformat_minor": 5
}
