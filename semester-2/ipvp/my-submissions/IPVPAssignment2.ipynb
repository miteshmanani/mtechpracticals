{
 "cells": [
  {
   "cell_type": "code",
   "execution_count": null,
   "id": "7e75651a-bf7f-4c5e-a7b2-69e059b51307",
   "metadata": {},
   "outputs": [],
   "source": [
    "import numpy as np\n",
    "\n",
    "# Define U and d based on the example values\n",
    "U = np.array([[1, 2], [2, 3], [3, 4]])  # 3x2 matrix\n",
    "d = np.array([1, 2, 3])  # 3x1 vector\n",
    "\n",
    "# Calculate the conjugate transpose of U\n",
    "U_H = np.conjugate(U.T)\n",
    "\n",
    "# Calculate the estimated weight vector Ŵ using the least squares formula\n",
    "W_hat = np.linalg.inv(U_H @ U) @ U_H @ d\n",
    "\n",
    "print(\"Estimated weight vector W_hat:\", W_hat)\n"
   ]
  }
 ],
 "metadata": {
  "kernelspec": {
   "display_name": "Python 3",
   "language": "python",
   "name": "python3"
  },
  "language_info": {
   "codemirror_mode": {
    "name": "ipython",
    "version": 3
   },
   "file_extension": ".py",
   "mimetype": "text/x-python",
   "name": "python",
   "nbconvert_exporter": "python",
   "pygments_lexer": "ipython3",
   "version": "3.11.9"
  }
 },
 "nbformat": 4,
 "nbformat_minor": 5
}
